{
 "cells": [
  {
   "cell_type": "code",
   "execution_count": 16,
   "metadata": {
    "collapsed": true,
    "pycharm": {
     "name": "#%%\n"
    }
   },
   "outputs": [
    {
     "name": "stdout",
     "output_type": "stream",
     "text": [
      "white\n"
     ]
    }
   ],
   "source": [
    "import random\n",
    "\n",
    "replic = {\n",
    "    'hello': ['hi', 'sup', 'hello'],\n",
    "    'blue': ['yellow', 'black', 'white']\n",
    "}\n",
    "\n",
    "user_message = 'blue'\n",
    "\n",
    "if user_message not in replic:\n",
    "    replic[user_message] = []\n",
    "    answer = input('Enter your answer by your question: ')\n",
    "    replic[user_message].append(answer)\n",
    "    print(replic)\n",
    "\n",
    "else:\n",
    "    print(random.choice(replic[user_message]))\n",
    "\n"
   ]
  }
 ],
 "metadata": {
  "kernelspec": {
   "display_name": "Python 3",
   "language": "python",
   "name": "python3"
  },
  "language_info": {
   "codemirror_mode": {
    "name": "ipython",
    "version": 2
   },
   "file_extension": ".py",
   "mimetype": "text/x-python",
   "name": "python",
   "nbconvert_exporter": "python",
   "pygments_lexer": "ipython2",
   "version": "2.7.6"
  }
 },
 "nbformat": 4,
 "nbformat_minor": 0
}